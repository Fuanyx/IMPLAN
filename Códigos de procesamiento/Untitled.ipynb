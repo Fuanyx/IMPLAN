{
 "cells": [
  {
   "cell_type": "code",
   "execution_count": 3,
   "id": "8727d4c2-ee96-4c57-910f-4f14096092b6",
   "metadata": {},
   "outputs": [],
   "source": [
    "import time\n",
    "import csv\n",
    "from selenium import webdriver\n",
    "from selenium.webdriver.common.by import By\n",
    "from selenium.webdriver.common.action_chains import ActionChains\n",
    "from selenium.webdriver.chrome.service import Service\n",
    "from selenium.webdriver.chrome.options import Options\n",
    "from selenium.webdriver.support.ui import WebDriverWait\n",
    "from selenium.webdriver.support import expected_conditions as EC\n",
    "import pandas as pd\n",
    "from sqlalchemy import create_engine"
   ]
  },
  {
   "cell_type": "code",
   "execution_count": 5,
   "id": "3c941505-bc68-4ff0-880e-0aae10c282a2",
   "metadata": {},
   "outputs": [],
   "source": [
    "options = Options()\n",
    "options.add_argument(\"--start-maximized\")\n",
    "driver = webdriver.Chrome(service=Service(), options=options)\n",
    "driver.get(\"https://www.waze.com/es-419/live-map\")\n",
    "time.sleep(20)\n",
    "\n",
    "wait = WebDriverWait(driver, 30)\n",
    "data = []\n",
    "\n",
    "try:\n",
    "    acknowledge_button = wait.until(EC.element_to_be_clickable((By.CLASS_NAME, \"waze-tour-tooltip__acknowledge\")))\n",
    "    acknowledge_button.click()\n",
    "except Exception as e:\n",
    "    print(\"No se pudo hacer clic en el botón 'Entendido':\", e)"
   ]
  },
  {
   "cell_type": "code",
   "execution_count": null,
   "id": "c32507a0-2969-408f-bd41-2b14d6940361",
   "metadata": {},
   "outputs": [],
   "source": []
  },
  {
   "cell_type": "code",
   "execution_count": null,
   "id": "87910ed0-adce-4908-8ff9-c9132eb8241b",
   "metadata": {},
   "outputs": [],
   "source": []
  }
 ],
 "metadata": {
  "kernelspec": {
   "display_name": "Python 3 (ipykernel)",
   "language": "python",
   "name": "python3"
  },
  "language_info": {
   "codemirror_mode": {
    "name": "ipython",
    "version": 3
   },
   "file_extension": ".py",
   "mimetype": "text/x-python",
   "name": "python",
   "nbconvert_exporter": "python",
   "pygments_lexer": "ipython3",
   "version": "3.13.3"
  }
 },
 "nbformat": 4,
 "nbformat_minor": 5
}
