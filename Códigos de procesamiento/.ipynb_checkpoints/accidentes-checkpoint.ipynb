{
 "cells": [
  {
   "cell_type": "code",
   "execution_count": 1,
   "id": "b03071ba-011f-4c4e-a975-768b9c085237",
   "metadata": {},
   "outputs": [],
   "source": [
    "import time\n",
    "import csv\n",
    "from selenium import webdriver\n",
    "from selenium.webdriver.common.by import By\n",
    "from selenium.webdriver.common.action_chains import ActionChains\n",
    "from selenium.webdriver.chrome.service import Service\n",
    "from selenium.webdriver.chrome.options import Options\n",
    "from selenium.webdriver.support.ui import WebDriverWait\n",
    "from selenium.webdriver.support import expected_conditions as EC\n",
    "import pandas as pd\n",
    "from sqlalchemy import create_engine"
   ]
  },
  {
   "cell_type": "code",
   "execution_count": 2,
   "id": "98fd2e2f-3a89-43f2-ba79-d830aca8fbb4",
   "metadata": {},
   "outputs": [
    {
     "name": "stdout",
     "output_type": "stream",
     "text": [
      "✅ Todo listo. Datos guardados en 'baches.csv'.\n"
     ]
    }
   ],
   "source": [
    "\n",
    "\n",
    "options = Options()\n",
    "options.add_argument(\"--start-maximized\")\n",
    "driver = webdriver.Chrome(service=Service(), options=options)\n",
    "driver.get(\"https://www.waze.com/es-419/live-map\")\n",
    "time.sleep(20)\n",
    "\n",
    "wait = WebDriverWait(driver, 30)\n",
    "data = []\n",
    "\n",
    "# Extraer baches y sus z-index\n",
    "baches_data = []\n",
    "baches = driver.find_elements(By.CLASS_NAME, \"wm-alert-icon--accident\")\n",
    "for b in baches:\n",
    "    style = b.get_attribute(\"style\")\n",
    "    z = None\n",
    "    for part in style.split(\";\"):\n",
    "        if \"z-index\" in part:\n",
    "            try:\n",
    "                z = int(part.split(\":\")[1].strip())\n",
    "            except:\n",
    "                z = None\n",
    "            break\n",
    "    if z is not None:\n",
    "        baches_data.append({\"z\": z, \"style\": style})\n",
    "\n",
    "# Ordenar de mayor a menor z-index\n",
    "baches_data.sort(key=lambda x: x[\"z\"], reverse=True)\n",
    "\n",
    "for i, bache_info in enumerate(baches_data, 1):\n",
    "    try:\n",
    "        print(f\"➡ Procesando bache #{i} con z-index {bache_info['z']}\")\n",
    "\n",
    "        # Buscar el bache con ese z-index (de nuevo, para evitar stale element)\n",
    "        baches_actuales = driver.find_elements(By.CLASS_NAME, \"wm-alert-icon--accident\")\n",
    "        bache = None\n",
    "        for b in baches_actuales:\n",
    "            if str(bache_info[\"z\"]) in b.get_attribute(\"style\"):\n",
    "                bache = b\n",
    "                break\n",
    "\n",
    "        if not bache:\n",
    "            print(\"⚠️ Bache no encontrado, se omite.\")\n",
    "            continue\n",
    "\n",
    "        driver.execute_script(\"arguments[0].scrollIntoView(true);\", bache)\n",
    "        time.sleep(2)\n",
    "        bache.click()\n",
    "        time.sleep(2)\n",
    "\n",
    "        tiempo_element = wait.until(EC.presence_of_element_located((By.CLASS_NAME, \"wm-alert-details__time\")))\n",
    "        tiempo_texto = tiempo_element.text.strip()\n",
    "\n",
    "        like_element = wait.until(EC.presence_of_element_located((By.CLASS_NAME, \"wm-alert-metrics__likes\")))\n",
    "        like_texto = like_element.text.strip()\n",
    "\n",
    "        print(\"📆 Tiempo:\", tiempo_texto)\n",
    "        print(\"👥 Reportado por:\", like_texto)\n",
    "\n",
    "        # Cerrar el popup\n",
    "        cerrar_popup = wait.until(EC.element_to_be_clickable((By.CLASS_NAME, \"leaflet-popup-close-button\")))\n",
    "        cerrar_popup.click()\n",
    "        time.sleep(2)\n",
    "\n",
    "        # Buscar el mismo bache nuevamente antes del clic derecho\n",
    "        baches_actuales = driver.find_elements(By.CLASS_NAME, \"wm-alert-icon--accident\")\n",
    "        bache = None\n",
    "        for b in baches_actuales:\n",
    "            if str(bache_info[\"z\"]) in b.get_attribute(\"style\"):\n",
    "                bache = b\n",
    "                break\n",
    "\n",
    "        if not bache:\n",
    "            print(\"⚠️ Bache desapareció antes de clic derecho.\")\n",
    "            continue\n",
    "\n",
    "        driver.execute_script(\"arguments[0].scrollIntoView(true);\", bache)\n",
    "        time.sleep(2)\n",
    "        ActionChains(driver).move_to_element(bache).context_click().perform()\n",
    "        time.sleep(2)\n",
    "\n",
    "        compartir_btn = wait.until(EC.element_to_be_clickable((By.XPATH, \"//button[contains(text(), 'Compartir')]\")))\n",
    "        compartir_btn.click()\n",
    "        time.sleep(2)\n",
    "\n",
    "        boton_copiar = wait.until(EC.presence_of_element_located((By.XPATH, \"//button[@data-ga-action='copy_drive_link']\")))\n",
    "        input_box = boton_copiar.find_element(By.XPATH, \"preceding-sibling::input\")\n",
    "        link = input_box.get_attribute(\"value\")\n",
    "\n",
    "        print(\"✅ Link:\", link)\n",
    "        data.append([link, tiempo_texto, like_texto])\n",
    "\n",
    "        cerrar_btn = wait.until(EC.element_to_be_clickable((By.CLASS_NAME, \"js-close\")))\n",
    "        cerrar_btn.click()\n",
    "        time.sleep(1)\n",
    "\n",
    "    except Exception as e:\n",
    "        print(f\"⚠️ Error en bache #{i}: {e}\")\n",
    "        driver.save_screenshot(f\"error_bache_{i}.png\")\n",
    "        continue\n",
    "\n",
    "# Guardar en CSV\n",
    "with open(\"accidentes.csv\", \"w\", newline=\"\", encoding=\"utf-8\") as f:\n",
    "    writer = csv.writer(f)\n",
    "    writer.writerow([\"Link\", \"Tiempo\", \"Likes\"])\n",
    "    for row in data:\n",
    "        writer.writerow(row)\n",
    "\n",
    "print(\"✅ Todo listo. Datos guardados en 'baches.csv'.\")"
   ]
  },
  {
   "cell_type": "code",
   "execution_count": 3,
   "id": "04e5563e-1cc8-42b6-8759-16b64915f51a",
   "metadata": {},
   "outputs": [],
   "source": [
    "import pandas as pd\n",
    "from datetime import datetime, timedelta\n",
    "import re\n",
    "\n",
    "# Ejemplo de datos\n",
    "df = pd.DataFrame({\n",
    "    'comentario': [\n",
    "        'Último reporte hace 1 día',\n",
    "        'Último reporte hace 14h 4 min',\n",
    "        'Último reporte hace 5 días',\n",
    "        'Último reporte hace 22h 27 min'\n",
    "    ]\n",
    "})\n",
    "\n",
    "# Función para restar tiempo al datetime actual\n",
    "def obtener_fecha_reporte(texto):\n",
    "    ahora = datetime.now()\n",
    "    \n",
    "    # Extraer días\n",
    "    dias = int(re.search(r'(\\d+)\\s*d[ií]as?', texto).group(1)) if re.search(r'(\\d+)\\s*d[ií]as?', texto) else 0\n",
    "    \n",
    "    # Extraer horas\n",
    "    horas = int(re.search(r'(\\d+)\\s*h', texto).group(1)) if re.search(r'(\\d+)\\s*h', texto) else 0\n",
    "    \n",
    "    # Extraer minutos\n",
    "    minutos = int(re.search(r'(\\d+)\\s*min', texto).group(1)) if re.search(r'(\\d+)\\s*min', texto) else 0\n",
    "    \n",
    "    # Calcular fecha del reporte\n",
    "    return ahora - timedelta(days=dias, hours=horas, minutes=minutos)"
   ]
  },
  {
   "cell_type": "code",
   "execution_count": 4,
   "id": "a2fc1a70-f62e-4c0d-8d67-768a976fd125",
   "metadata": {},
   "outputs": [],
   "source": [
    "import pandas as pd\n",
    "import openpyxl"
   ]
  },
  {
   "cell_type": "code",
   "execution_count": 5,
   "id": "0d0420f5-f02d-4c80-82b2-543e40b56786",
   "metadata": {},
   "outputs": [],
   "source": [
    "df = pd.DataFrame(data)"
   ]
  },
  {
   "cell_type": "code",
   "execution_count": 6,
   "id": "d1c49be2-0bd5-485f-b1aa-50993777afcb",
   "metadata": {},
   "outputs": [
    {
     "ename": "IndexError",
     "evalue": "single positional indexer is out-of-bounds",
     "output_type": "error",
     "traceback": [
      "\u001b[31m---------------------------------------------------------------------------\u001b[39m",
      "\u001b[31mIndexError\u001b[39m                                Traceback (most recent call last)",
      "\u001b[36mCell\u001b[39m\u001b[36m \u001b[39m\u001b[32mIn[6]\u001b[39m\u001b[32m, line 1\u001b[39m\n\u001b[32m----> \u001b[39m\u001b[32m1\u001b[39m df[\u001b[33m'\u001b[39m\u001b[33mlatitud\u001b[39m\u001b[33m'\u001b[39m] = \u001b[43mdf\u001b[49m\u001b[43m.\u001b[49m\u001b[43miloc\u001b[49m\u001b[43m[\u001b[49m\u001b[43m:\u001b[49m\u001b[43m,\u001b[49m\u001b[43m \u001b[49m\u001b[32;43m0\u001b[39;49m\u001b[43m]\u001b[49m.str[\u001b[32m26\u001b[39m:\u001b[32m37\u001b[39m]\n\u001b[32m      3\u001b[39m \u001b[38;5;66;03m# Extraer caracteres 41 al 53 (posición 40 a 53)\u001b[39;00m\n\u001b[32m      4\u001b[39m df[\u001b[33m'\u001b[39m\u001b[33mlongitud\u001b[39m\u001b[33m'\u001b[39m] = df.iloc[:, \u001b[32m0\u001b[39m].str[\u001b[32m40\u001b[39m:\u001b[32m52\u001b[39m]\n",
      "\u001b[36mFile \u001b[39m\u001b[32m~\\AppData\\Local\\Programs\\Python\\Python313\\Lib\\site-packages\\pandas\\core\\indexing.py:1184\u001b[39m, in \u001b[36m_LocationIndexer.__getitem__\u001b[39m\u001b[34m(self, key)\u001b[39m\n\u001b[32m   1182\u001b[39m     \u001b[38;5;28;01mif\u001b[39;00m \u001b[38;5;28mself\u001b[39m._is_scalar_access(key):\n\u001b[32m   1183\u001b[39m         \u001b[38;5;28;01mreturn\u001b[39;00m \u001b[38;5;28mself\u001b[39m.obj._get_value(*key, takeable=\u001b[38;5;28mself\u001b[39m._takeable)\n\u001b[32m-> \u001b[39m\u001b[32m1184\u001b[39m     \u001b[38;5;28;01mreturn\u001b[39;00m \u001b[38;5;28;43mself\u001b[39;49m\u001b[43m.\u001b[49m\u001b[43m_getitem_tuple\u001b[49m\u001b[43m(\u001b[49m\u001b[43mkey\u001b[49m\u001b[43m)\u001b[49m\n\u001b[32m   1185\u001b[39m \u001b[38;5;28;01melse\u001b[39;00m:\n\u001b[32m   1186\u001b[39m     \u001b[38;5;66;03m# we by definition only have the 0th axis\u001b[39;00m\n\u001b[32m   1187\u001b[39m     axis = \u001b[38;5;28mself\u001b[39m.axis \u001b[38;5;129;01mor\u001b[39;00m \u001b[32m0\u001b[39m\n",
      "\u001b[36mFile \u001b[39m\u001b[32m~\\AppData\\Local\\Programs\\Python\\Python313\\Lib\\site-packages\\pandas\\core\\indexing.py:1690\u001b[39m, in \u001b[36m_iLocIndexer._getitem_tuple\u001b[39m\u001b[34m(self, tup)\u001b[39m\n\u001b[32m   1689\u001b[39m \u001b[38;5;28;01mdef\u001b[39;00m\u001b[38;5;250m \u001b[39m\u001b[34m_getitem_tuple\u001b[39m(\u001b[38;5;28mself\u001b[39m, tup: \u001b[38;5;28mtuple\u001b[39m):\n\u001b[32m-> \u001b[39m\u001b[32m1690\u001b[39m     tup = \u001b[38;5;28;43mself\u001b[39;49m\u001b[43m.\u001b[49m\u001b[43m_validate_tuple_indexer\u001b[49m\u001b[43m(\u001b[49m\u001b[43mtup\u001b[49m\u001b[43m)\u001b[49m\n\u001b[32m   1691\u001b[39m     \u001b[38;5;28;01mwith\u001b[39;00m suppress(IndexingError):\n\u001b[32m   1692\u001b[39m         \u001b[38;5;28;01mreturn\u001b[39;00m \u001b[38;5;28mself\u001b[39m._getitem_lowerdim(tup)\n",
      "\u001b[36mFile \u001b[39m\u001b[32m~\\AppData\\Local\\Programs\\Python\\Python313\\Lib\\site-packages\\pandas\\core\\indexing.py:966\u001b[39m, in \u001b[36m_LocationIndexer._validate_tuple_indexer\u001b[39m\u001b[34m(self, key)\u001b[39m\n\u001b[32m    964\u001b[39m \u001b[38;5;28;01mfor\u001b[39;00m i, k \u001b[38;5;129;01min\u001b[39;00m \u001b[38;5;28menumerate\u001b[39m(key):\n\u001b[32m    965\u001b[39m     \u001b[38;5;28;01mtry\u001b[39;00m:\n\u001b[32m--> \u001b[39m\u001b[32m966\u001b[39m         \u001b[38;5;28;43mself\u001b[39;49m\u001b[43m.\u001b[49m\u001b[43m_validate_key\u001b[49m\u001b[43m(\u001b[49m\u001b[43mk\u001b[49m\u001b[43m,\u001b[49m\u001b[43m \u001b[49m\u001b[43mi\u001b[49m\u001b[43m)\u001b[49m\n\u001b[32m    967\u001b[39m     \u001b[38;5;28;01mexcept\u001b[39;00m \u001b[38;5;167;01mValueError\u001b[39;00m \u001b[38;5;28;01mas\u001b[39;00m err:\n\u001b[32m    968\u001b[39m         \u001b[38;5;28;01mraise\u001b[39;00m \u001b[38;5;167;01mValueError\u001b[39;00m(\n\u001b[32m    969\u001b[39m             \u001b[33m\"\u001b[39m\u001b[33mLocation based indexing can only have \u001b[39m\u001b[33m\"\u001b[39m\n\u001b[32m    970\u001b[39m             \u001b[33mf\u001b[39m\u001b[33m\"\u001b[39m\u001b[33m[\u001b[39m\u001b[38;5;132;01m{\u001b[39;00m\u001b[38;5;28mself\u001b[39m._valid_types\u001b[38;5;132;01m}\u001b[39;00m\u001b[33m] types\u001b[39m\u001b[33m\"\u001b[39m\n\u001b[32m    971\u001b[39m         ) \u001b[38;5;28;01mfrom\u001b[39;00m\u001b[38;5;250m \u001b[39m\u001b[34;01merr\u001b[39;00m\n",
      "\u001b[36mFile \u001b[39m\u001b[32m~\\AppData\\Local\\Programs\\Python\\Python313\\Lib\\site-packages\\pandas\\core\\indexing.py:1592\u001b[39m, in \u001b[36m_iLocIndexer._validate_key\u001b[39m\u001b[34m(self, key, axis)\u001b[39m\n\u001b[32m   1590\u001b[39m     \u001b[38;5;28;01mreturn\u001b[39;00m\n\u001b[32m   1591\u001b[39m \u001b[38;5;28;01melif\u001b[39;00m is_integer(key):\n\u001b[32m-> \u001b[39m\u001b[32m1592\u001b[39m     \u001b[38;5;28;43mself\u001b[39;49m\u001b[43m.\u001b[49m\u001b[43m_validate_integer\u001b[49m\u001b[43m(\u001b[49m\u001b[43mkey\u001b[49m\u001b[43m,\u001b[49m\u001b[43m \u001b[49m\u001b[43maxis\u001b[49m\u001b[43m)\u001b[49m\n\u001b[32m   1593\u001b[39m \u001b[38;5;28;01melif\u001b[39;00m \u001b[38;5;28misinstance\u001b[39m(key, \u001b[38;5;28mtuple\u001b[39m):\n\u001b[32m   1594\u001b[39m     \u001b[38;5;66;03m# a tuple should already have been caught by this point\u001b[39;00m\n\u001b[32m   1595\u001b[39m     \u001b[38;5;66;03m# so don't treat a tuple as a valid indexer\u001b[39;00m\n\u001b[32m   1596\u001b[39m     \u001b[38;5;28;01mraise\u001b[39;00m IndexingError(\u001b[33m\"\u001b[39m\u001b[33mToo many indexers\u001b[39m\u001b[33m\"\u001b[39m)\n",
      "\u001b[36mFile \u001b[39m\u001b[32m~\\AppData\\Local\\Programs\\Python\\Python313\\Lib\\site-packages\\pandas\\core\\indexing.py:1685\u001b[39m, in \u001b[36m_iLocIndexer._validate_integer\u001b[39m\u001b[34m(self, key, axis)\u001b[39m\n\u001b[32m   1683\u001b[39m len_axis = \u001b[38;5;28mlen\u001b[39m(\u001b[38;5;28mself\u001b[39m.obj._get_axis(axis))\n\u001b[32m   1684\u001b[39m \u001b[38;5;28;01mif\u001b[39;00m key >= len_axis \u001b[38;5;129;01mor\u001b[39;00m key < -len_axis:\n\u001b[32m-> \u001b[39m\u001b[32m1685\u001b[39m     \u001b[38;5;28;01mraise\u001b[39;00m \u001b[38;5;167;01mIndexError\u001b[39;00m(\u001b[33m\"\u001b[39m\u001b[33msingle positional indexer is out-of-bounds\u001b[39m\u001b[33m\"\u001b[39m)\n",
      "\u001b[31mIndexError\u001b[39m: single positional indexer is out-of-bounds"
     ]
    }
   ],
   "source": [
    "df['latitud'] = df.iloc[:, 0].str[26:37]\n",
    "\n",
    "# Extraer caracteres 41 al 53 (posición 40 a 53)\n",
    "df['longitud'] = df.iloc[:, 0].str[40:52]"
   ]
  },
  {
   "cell_type": "code",
   "execution_count": null,
   "id": "486f1e74-87e9-4fe3-9454-f0fdbbcb8662",
   "metadata": {},
   "outputs": [],
   "source": [
    "# Aplicar al DataFrame\n",
    "df['fecha_reporte'] = df[1].apply(obtener_fecha_reporte)"
   ]
  },
  {
   "cell_type": "code",
   "execution_count": null,
   "id": "89d9f993-7108-40f1-be4f-2708aeba52bd",
   "metadata": {},
   "outputs": [],
   "source": [
    "df.columns = ['URL', 'Reporte', 'Likes', 'latitud','longitud' ,'fecha_reporte' ]"
   ]
  },
  {
   "cell_type": "code",
   "execution_count": null,
   "id": "f6910033-f9ce-4655-89dc-f98a859bb5e2",
   "metadata": {},
   "outputs": [],
   "source": [
    "df.to_excel('accidentes.xlsx', sheet_name='baches', index=False)"
   ]
  },
  {
   "cell_type": "code",
   "execution_count": null,
   "id": "76240ab8-f625-4f76-a137-7c17912d2598",
   "metadata": {},
   "outputs": [],
   "source": [
    "# Datos de conexión\n",
    "usuario = 'juanyam'        # ← Reemplaza esto\n",
    "contrasena = 'eJnNPmklNznIkZ1EJ8JB4B=='  # ← Reemplaza esto\n",
    "host = '45.132.241.118'\n",
    "puerto = '5432'\n",
    "base_de_datos = 'siginplan'\n",
    "esquema = 'datos_trafico'\n",
    "nombre_tabla = 'accidentes'  # ← Nombre de la nueva tabla\n",
    "\n",
    "# Crear conexión con SQLAlchemy\n",
    "engine = create_engine(f'postgresql+psycopg2://{usuario}:{contrasena}@{host}:{puerto}/{base_de_datos}')\n",
    "\n",
    "# Subir el DataFrame a PostgreSQL (al esquema deseado)\n",
    "df.to_sql(nombre_tabla, engine, schema=esquema, if_exists='replace', index=False)"
   ]
  }
 ],
 "metadata": {
  "kernelspec": {
   "display_name": "Python 3 (ipykernel)",
   "language": "python",
   "name": "python3"
  },
  "language_info": {
   "codemirror_mode": {
    "name": "ipython",
    "version": 3
   },
   "file_extension": ".py",
   "mimetype": "text/x-python",
   "name": "python",
   "nbconvert_exporter": "python",
   "pygments_lexer": "ipython3",
   "version": "3.13.3"
  }
 },
 "nbformat": 4,
 "nbformat_minor": 5
}
